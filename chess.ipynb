{
  "nbformat": 4,
  "nbformat_minor": 0,
  "metadata": {
    "colab": {
      "provenance": [],
      "authorship_tag": "ABX9TyMtzV7G2PlR9rUSnwurg4qI",
      "include_colab_link": true
    },
    "kernelspec": {
      "name": "python3",
      "display_name": "Python 3"
    },
    "language_info": {
      "name": "python"
    }
  },
  "cells": [
    {
      "cell_type": "markdown",
      "metadata": {
        "id": "view-in-github",
        "colab_type": "text"
      },
      "source": [
        "<a href=\"https://colab.research.google.com/github/owais-963/python-projects/blob/master/chess.ipynb\" target=\"_parent\"><img src=\"https://colab.research.google.com/assets/colab-badge.svg\" alt=\"Open In Colab\"/></a>"
      ]
    },
    {
      "cell_type": "code",
      "execution_count": 280,
      "metadata": {
        "id": "62EVsvnxAV0N"
      },
      "outputs": [],
      "source": [
        "board=[]\n",
        "\n",
        "for i in range(8):\n",
        "  row=[]\n",
        "  for j in range(8):\n",
        "    row.append(None)\n",
        "  board.append(row)\n",
        "\n",
        "peice_arr=[\"R\",\"Kn\",\"B\",\"Q\",\"K\",\"B\",\"Kn\",\"R\"]"
      ]
    },
    {
      "cell_type": "code",
      "source": [
        "class Pieces():\n",
        "  def __init__(self,current,family) -> None:\n",
        "    self.current=current\n",
        "    self.family=family\n",
        "    self.counter=None\n",
        "    self.next=None\n",
        "\n",
        "\n",
        "  def get_current(self):\n",
        "    return self.current\n",
        "  def get_next(self):\n",
        "    return self.next\n",
        "  def get_counter(self):\n",
        "    return self.counter\n",
        "  def get_family(self):\n",
        "    return self.family\n",
        "  def set_current(self,current):\n",
        "    self.current=current\n",
        "  def set_next(self,next):\n",
        "    self.next = next\n",
        "  def set_counter(self,counter):\n",
        "    self.counter=counter\n",
        "  def advance(self,current,next,counter):\n",
        "    pass\n",
        "  def kill(self,counter):\n",
        "    pass\n"
      ],
      "metadata": {
        "id": "723sRRtXBEB4"
      },
      "execution_count": 258,
      "outputs": []
    },
    {
      "cell_type": "code",
      "source": [
        "class pwan(Pieces):\n",
        "  def __init__(self,current,family,isTouch) -> None:\n",
        "    super().__init__(current,family)\n",
        "    self.isTouch=isTouch\n",
        "\n",
        "  def showMove(self,board):\n",
        "    possible_move=[]\n",
        "    counter=[]\n",
        "    c=0\n",
        "    \n",
        "    while (c<len(super().get_next())):\n",
        "      i=super().get_next()[c][0]\n",
        "      j=super().get_next()[c][1]\n",
        "      if board[i][j]==None: \n",
        "        possible_move.append(super().get_next()[c])\n",
        "        c+=1\n",
        "      else:\n",
        "        break\n",
        "    c=0\n",
        "    while(c < len(super().get_counter())):\n",
        "      i=super().get_counter()[c][0]\n",
        "      j=super().get_counter()[c][1]\n",
        "      if board[i][j]!=None:\n",
        "        if  board[i][j].get_family()!=board[super().get_current()[0]][super().get_current()[1]].get_family():\n",
        "          counter.append(super().get_counter()[c])\n",
        "      c+=1\n",
        "    \n",
        "    return (\"Posible Move \",possible_move), (\"counter \",counter)\n",
        "\n",
        "  def set_next(self,current):\n",
        "    next=[]\n",
        "    if current[0]!=7 or current[0]!=0:\n",
        "      if self.isTouch:\n",
        "        if super().get_family()==\"white\":\n",
        "          next=[[current[0]+1,current[1]]]\n",
        "        elif super().get_family()==\"black\":\n",
        "          next=[[current[0]-1,current[1]]]\n",
        "      else:\n",
        "        if super().get_family()==\"white\":\n",
        "          next=[[current[0]+1,current[1]],[current[0]+2,current[1]]]\n",
        "        elif super().get_family()==\"black\":\n",
        "          next=[[current[0]-1,current[1]],[current[0]-2,current[1]]]\n",
        "        self.isTouch=True\n",
        "    return super().set_next(next)\n",
        "\n",
        "  def set_counter(self, current):\n",
        "    counter=[]\n",
        "    if current[0]!=7 or current[0]!=0:\n",
        "      if super().get_family()==\"white\":\n",
        "        if current[1]+1<len(board[0]):\n",
        "          counter.append([current[0]+1,current[1]+1])\n",
        "        if current[1]-1>=0:\n",
        "          counter.append([current[0]+1,current[1]-1])\n",
        "      if super().get_family()==\"black\":\n",
        "        if current[1]+1<len(board[0]):\n",
        "          counter.append([current[0]-1,current[1]+1])\n",
        "        if current[1]-1>=0:\n",
        "          counter.append([current[0]-1,current[1]-1])\n",
        "    return super().set_counter(counter)\n",
        "\n",
        "  def advance(self,pos):\n",
        "    if super().get_current()[0]==7:\n",
        "      print(\"congagrulation you got 1 point\")\n",
        "      super().set_current(pos)\n",
        "      return 1  \n",
        "    else:\n",
        "      super().set_current(pos)\n",
        "      self.set_next(super().get_current())\n",
        "      self.set_counter(super().get_current())\n",
        "  def kill(self,pos):\n",
        "    super().set_current(pos)\n",
        "    self.set_next(pos)\n",
        "    self.set_counter(pos)\n",
        "    return +1\n",
        "\n"
      ],
      "metadata": {
        "id": "1UGAJwdwRhmX"
      },
      "execution_count": 262,
      "outputs": []
    },
    {
      "cell_type": "code",
      "source": [
        "board=[]\n",
        "\n",
        "for i in range(8):\n",
        "  row=[]\n",
        "  for j in range(8):\n",
        "    row.append(None)\n",
        "  board.append(row)"
      ],
      "metadata": {
        "id": "mMNuTYe3R3dk"
      },
      "execution_count": 293,
      "outputs": []
    },
    {
      "cell_type": "code",
      "source": [
        "p1=pwan([1,0],\"white\",False)\n",
        "p2=pwan([6,1],\"black\",False)\n",
        "p1.set_next(p1.get_current())\n",
        "p2.set_next(p2.get_current())\n",
        "p1.set_counter(p1.get_current())\n",
        "p2.set_counter(p2.get_current())\n",
        "board[p1.get_current()[0]][p1.get_current()[1]]=p1\n",
        "board[p2.get_current()[0]][p2.get_current()[1]]=p2"
      ],
      "metadata": {
        "id": "iBnQFWhWXv7N"
      },
      "execution_count": 294,
      "outputs": []
    },
    {
      "cell_type": "code",
      "source": [
        "print(p1.get_current())\n",
        "print(p1.get_next(),\" , \",p1.get_counter())\n",
        "print(p1.showMove(board))"
      ],
      "metadata": {
        "colab": {
          "base_uri": "https://localhost:8080/"
        },
        "id": "PbQxUTAWmZbV",
        "outputId": "3447e5f5-89a9-4c1f-af62-6ae782429bc1"
      },
      "execution_count": 301,
      "outputs": [
        {
          "output_type": "stream",
          "name": "stdout",
          "text": [
            "[3, 0]\n",
            "[[4, 0]]  ,  [[4, 1]]\n",
            "(('Posible Move ', [[4, 0]]), ('counter ', []))\n"
          ]
        }
      ]
    },
    {
      "cell_type": "code",
      "source": [
        "board[p1.get_current()[0]][p1.get_current()[1]]=None\n",
        "p1.advance([4,0])\n",
        "#p1.kill([])\n",
        "board[p1.get_current()[0]][p1.get_current()[1]]=p1"
      ],
      "metadata": {
        "id": "9xm9jq8k6sNN"
      },
      "execution_count": 302,
      "outputs": []
    },
    {
      "cell_type": "code",
      "source": [
        "print(p2.get_current())\n",
        "print(p2.get_next(),\" , \",p2.get_counter())\n",
        "print(p2.showMove(board))"
      ],
      "metadata": {
        "colab": {
          "base_uri": "https://localhost:8080/"
        },
        "id": "mgP_4VtHkOQI",
        "outputId": "08606e43-270d-40e5-9721-33325fbeee9c"
      },
      "execution_count": 303,
      "outputs": [
        {
          "output_type": "stream",
          "name": "stdout",
          "text": [
            "[5, 1]\n",
            "[[4, 1]]  ,  [[4, 2], [4, 0]]\n",
            "(('Posible Move ', [[4, 1]]), ('counter ', [[4, 0]]))\n"
          ]
        }
      ]
    },
    {
      "cell_type": "code",
      "source": [
        "board[p2.get_current()[0]][p2.get_current()[1]]=None\n",
        "#p2.advance([5,1])\n",
        "print(p2.kill([4,0]))\n",
        "board[p2.get_current()[0]][p2.get_current()[1]]=p2"
      ],
      "metadata": {
        "colab": {
          "base_uri": "https://localhost:8080/"
        },
        "id": "z_XMKNUUjkIA",
        "outputId": "c8490b76-8e24-4be7-ffd7-19380a385d41"
      },
      "execution_count": 304,
      "outputs": [
        {
          "output_type": "stream",
          "name": "stdout",
          "text": [
            "1\n"
          ]
        }
      ]
    },
    {
      "cell_type": "code",
      "source": [
        "board"
      ],
      "metadata": {
        "colab": {
          "base_uri": "https://localhost:8080/"
        },
        "id": "8C0Hg6VUqoJo",
        "outputId": "7990a952-203b-4cce-a35d-69c5dbc30e68"
      },
      "execution_count": 305,
      "outputs": [
        {
          "output_type": "execute_result",
          "data": {
            "text/plain": [
              "[[None, None, None, None, None, None, None, None],\n",
              " [None, None, None, None, None, None, None, None],\n",
              " [None, None, None, None, None, None, None, None],\n",
              " [None, None, None, None, None, None, None, None],\n",
              " [<__main__.pwan at 0x7f10d86fc410>, None, None, None, None, None, None, None],\n",
              " [None, None, None, None, None, None, None, None],\n",
              " [None, None, None, None, None, None, None, None],\n",
              " [None, None, None, None, None, None, None, None]]"
            ]
          },
          "metadata": {},
          "execution_count": 305
        }
      ]
    },
    {
      "cell_type": "code",
      "source": [
        "arr=[1,0]\n",
        "try:\n",
        "  out=arr[0-1]\n",
        "except:\n",
        "  out=arr[0+1]\n",
        "finally:\n",
        "  print(out)"
      ],
      "metadata": {
        "id": "YfX5FDggmd-t",
        "colab": {
          "base_uri": "https://localhost:8080/"
        },
        "outputId": "96e72c44-9270-4f45-f703-e0437b58ee0a"
      },
      "execution_count": 313,
      "outputs": [
        {
          "output_type": "stream",
          "name": "stdout",
          "text": [
            "0\n"
          ]
        }
      ]
    },
    {
      "cell_type": "code",
      "source": [
        "\n"
      ],
      "metadata": {
        "id": "rqxgszRw6FtH"
      },
      "execution_count": 311,
      "outputs": []
    },
    {
      "cell_type": "code",
      "source": [],
      "metadata": {
        "id": "wIO-ZQFknfZL"
      },
      "execution_count": 239,
      "outputs": []
    },
    {
      "cell_type": "code",
      "source": [],
      "metadata": {
        "id": "pcAsG0SGnjlb"
      },
      "execution_count": 231,
      "outputs": []
    },
    {
      "cell_type": "code",
      "source": [],
      "metadata": {
        "id": "wKfKj-tuomiC"
      },
      "execution_count": 239,
      "outputs": []
    },
    {
      "cell_type": "code",
      "source": [],
      "metadata": {
        "id": "6BNBkhG9YkHc"
      },
      "execution_count": null,
      "outputs": []
    }
  ]
}